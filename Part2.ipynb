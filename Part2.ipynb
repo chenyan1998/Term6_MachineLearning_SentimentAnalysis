{
 "metadata": {
  "language_info": {
   "codemirror_mode": {
    "name": "ipython",
    "version": 3
   },
   "file_extension": ".py",
   "mimetype": "text/x-python",
   "name": "python",
   "nbconvert_exporter": "python",
   "pygments_lexer": "ipython3",
   "version": "3.7.8-final"
  },
  "orig_nbformat": 2,
  "kernelspec": {
   "name": "python3",
   "display_name": "Python 3.7.8 64-bit",
   "metadata": {
    "interpreter": {
     "hash": "a854606665b7be95b87ec3b093a413d97bb66a80afcd942ae742fb1176c8ada0"
    }
   }
  }
 },
 "nbformat": 4,
 "nbformat_minor": 2,
 "cells": [
  {
   "source": [
    "## Training to get emission parameters"
   ],
   "cell_type": "markdown",
   "metadata": {}
  },
  {
   "cell_type": "code",
   "execution_count": 12,
   "metadata": {},
   "outputs": [],
   "source": [
    "import pandas as pd\n",
    "\n",
    "# inputFile is the path of the data\n",
    "def getEmissionParameters(inputFile,k):\n",
    "    f = open(inputFile,\"r\", encoding=\"utf8\")\n",
    "    data = f.read()\n",
    "    f.close()\n",
    "    trainingDataList=[]\n",
    "    data = data.split('\\n')\n",
    "    for i in data:\n",
    "        if len(i)!=0:\n",
    "            trainingDataList.append(i.split(' '))\n",
    "        else:\n",
    "            trainingDataList.append(['',''])\n",
    "\n",
    "    df = pd.DataFrame(trainingDataList)\n",
    "    df.columns=['word','state']\n",
    "    states, dfArray = stateCounts(df)\n",
    "    wordsDict = getWords(states,dfArray)\n",
    "    numerator = wordCounts(wordsDict, k)\n",
    "    b_uo = emissionParameters(numerator,states,k)\n",
    "    return b_uo,wordsDict"
   ]
  },
  {
   "cell_type": "code",
   "execution_count": 13,
   "metadata": {
    "tags": []
   },
   "outputs": [],
   "source": [
    "# get total count of each state and save the row it was found in\n",
    "# then get relevant count of state with word\n",
    "def stateCounts(df):\n",
    "    trainingDataArray = df.to_numpy()\n",
    "\n",
    "    states = {}\n",
    "    for row in range(len(trainingDataArray)):\n",
    "        if trainingDataArray[row][1]=='':\n",
    "            continue\n",
    "        elif trainingDataArray[row][1] not in states.keys():\n",
    "            states[trainingDataArray[row][1]]=[1,str(row)]\n",
    "        else:\n",
    "            states[trainingDataArray[row][1]]=[states[trainingDataArray[row][1]][0]+1,states[trainingDataArray[row][1]][1]+\" \"+str(row)]\n",
    "\n",
    "    return states,trainingDataArray\n"
   ]
  },
  {
   "cell_type": "code",
   "execution_count": 14,
   "metadata": {
    "tags": []
   },
   "outputs": [],
   "source": [
    "# get all the words in the state\n",
    "def getWords(states,trainingDataArray):\n",
    "    all_the_words={}\n",
    "    for state,value in states.items():\n",
    "        # print(state)\n",
    "        words_in_state=[]\n",
    "        positions = value[1].split(' ')\n",
    "        for i in positions:\n",
    "            words_in_state.append(trainingDataArray[int(i)][0])\n",
    "        all_the_words[state]=words_in_state\n",
    "    return all_the_words\n"
   ]
  },
  {
   "cell_type": "code",
   "execution_count": 15,
   "metadata": {
    "tags": []
   },
   "outputs": [],
   "source": [
    "# get count(state-->word)\n",
    "# words is a list of words for each state\n",
    "def wordCounts(all_the_words, k):\n",
    "    numerator = {}\n",
    "    for state,words in all_the_words.items():\n",
    "        for i in words:\n",
    "            # print(i)\n",
    "            if i+' '+state not in numerator.keys():\n",
    "                numerator[i+\" \"+state] = 1\n",
    "            else:\n",
    "                numerator[i+\" \"+state] = numerator[i+\" \"+state] + 1\n",
    "        # add in #unk# token\n",
    "        numerator['#UNK# '+state] = k\n",
    "    return numerator\n"
   ]
  },
  {
   "cell_type": "code",
   "execution_count": 16,
   "metadata": {
    "tags": []
   },
   "outputs": [],
   "source": [
    "# calculate emission parameter: word value/state value\n",
    "def emissionParameters(numerator,states,k):\n",
    "    b_uo = {}\n",
    "    olds=''\n",
    "    for header,numerator_count in numerator.items():\n",
    "        cur_state = header.split(' ')[1]\n",
    "        if cur_state!=olds: # a new state\n",
    "            denom = states[cur_state][0] # get total count of the state\n",
    "\n",
    "            b_uo[header]=numerator_count/(denom+k)\n",
    "        else:\n",
    "            b_uo[header]=numerator_count/(denom+k)\n",
    "\n",
    "        olds = cur_state\n",
    "    return b_uo\n"
   ]
  },
  {
   "cell_type": "code",
   "execution_count": 17,
   "metadata": {
    "tags": []
   },
   "outputs": [],
   "source": [
    "# b_uo,wordsInTrainingData = getEmissionParameters('./EN(2)/train',0.5)\n",
    "# b_uo,wordsInTrainingData = getEmissionParameters('./SG(1)/train',0.5)\n",
    "b_uo,wordsInTrainingData = getEmissionParameters('./CN/train',0.5)\n",
    "\n",
    "f = open('./CN/wordsInTrain.txt','w', encoding=\"utf8\")  # change file path here\n",
    "for i in wordsInTrainingData.values():\n",
    "    for j in i:\n",
    "        f.write(j+'\\n')\n",
    "f.close()\n",
    "print(\"Training has finished.\")"
   ]
  },
  {
   "source": [
    "## Testing"
   ],
   "cell_type": "markdown",
   "metadata": {}
  },
  {
   "cell_type": "code",
   "execution_count": 18,
   "metadata": {
    "tags": []
   },
   "outputs": [],
   "source": [
    "import numpy as np\n",
    "# inputFile is the path of the data\n",
    "def testForEmissionParameters(inputFile,train_Words,b_uo):\n",
    "    k=0.5\n",
    "    result=[]\n",
    "    f = open(inputFile,\"r\", encoding=\"utf8\")\n",
    "    f2 = open(train_Words,'r', encoding=\"utf8\")\n",
    "    data = f.read()\n",
    "    train_words = f2.read()\n",
    "    f.close()\n",
    "    f2.close()\n",
    "\n",
    "    data = data.split('\\n')\n",
    "    train_words = train_words.split('\\n')\n",
    "    w_data = wordChecker(data,train_words)\n",
    "    # get estimated y value\n",
    "    final_wordlist=[]\n",
    "    for word in w_data:\n",
    "        possible_y = {}\n",
    "        if len(word)==0:\n",
    "            result.append('')\n",
    "        else:\n",
    "            unknown_check = word.find(\"#UNK#\")\n",
    "            for key,value in b_uo.items():\n",
    "                cur_word,state = key.split(' ')\n",
    "                if word==cur_word:\n",
    "                    possible_y[value]=state\n",
    "                elif unknown_check!=-1:\n",
    "                    possible_y[value]=state\n",
    "            if len(possible_y)!=0:\n",
    "                optimal_y = max(possible_y.keys())\n",
    "                result.append(possible_y[optimal_y])\n",
    "        if unknown_check!=-1:\n",
    "            final_wordlist.append(word[:len(word)-5])\n",
    "            \n",
    "        else:\n",
    "            final_wordlist.append(word)\n",
    "            \n",
    "    return final_wordlist,result\n"
   ]
  },
  {
   "cell_type": "code",
   "execution_count": 19,
   "metadata": {},
   "outputs": [],
   "source": [
    "# if word not in training set then make it #UNK#\n",
    "def wordChecker(data,train_words):\n",
    "    word_data=[]\n",
    "    for word in data:\n",
    "        if len(word)==0:\n",
    "            word_data.append('')\n",
    "        elif word in train_words:\n",
    "            word_data.append(word)\n",
    "        else:\n",
    "            word_data.append(word+\"#UNK#\")\n",
    "\n",
    "    return word_data\n"
   ]
  },
  {
   "cell_type": "code",
   "execution_count": 20,
   "metadata": {
    "tags": []
   },
   "outputs": [],
   "source": [
    "\n",
    "# data,result=testForEmissionParameters('./EN(2)/dev.in','./EN(2)/wordsInTrain.txt',b_uo)\n",
    "# data,result=testForEmissionParameters('./SG(1)/dev.in','./SG(1)/wordsInTrain.txt',b_uo)\n",
    "data,result=testForEmissionParameters('./CN/dev.in','./CN/wordsInTrain.txt',b_uo)\n",
    "\n",
    "f = open('./CN/dev.p2.out','w', encoding=\"utf8\")    # Change file path here\n",
    "for i in range(len(data)):\n",
    "    f.write(data[i]+\" \"+result[i]+'\\n')\n",
    "f.close()\n",
    "print(\"dev.p2.out has been created.\")"
   ]
  },
  {
   "cell_type": "code",
   "execution_count": null,
   "metadata": {},
   "outputs": [],
   "source": []
  }
 ]
}