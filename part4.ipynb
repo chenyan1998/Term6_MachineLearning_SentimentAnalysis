{
 "metadata": {
  "language_info": {
   "codemirror_mode": {
    "name": "ipython",
    "version": 3
   },
   "file_extension": ".py",
   "mimetype": "text/x-python",
   "name": "python",
   "nbconvert_exporter": "python",
   "pygments_lexer": "ipython3",
   "version": "3.7.3-final"
  },
  "orig_nbformat": 2,
  "kernelspec": {
   "name": "python3",
   "display_name": "Python 3",
   "language": "python"
  }
 },
 "nbformat": 4,
 "nbformat_minor": 2,
 "cells": [
  {
   "cell_type": "code",
   "execution_count": 84,
   "metadata": {},
   "outputs": [],
   "source": [
    "import pandas as pd\n",
    "import numpy as np \n"
   ]
  },
  {
   "source": [
    "## Define functions"
   ],
   "cell_type": "markdown",
   "metadata": {}
  },
  {
   "cell_type": "code",
   "execution_count": 85,
   "metadata": {
    "tags": []
   },
   "outputs": [],
   "source": [
    "def load_data(path):\n",
    "    \n",
    "    with open(path) as f:\n",
    "        tags=[]\n",
    "        observations=[]\n",
    "        tag_temp=[]\n",
    "        obs_temp=[]\n",
    "        for line in f.readlines():\n",
    "            if line=='\\n':\n",
    "                tags.append(tag_temp)\n",
    "                observations.append(obs_temp)\n",
    "                tag_temp=[]\n",
    "                obs_temp=[]\n",
    "            else:\n",
    "                tag_obs_lst = line.split(' ')\n",
    "                if len(tag_obs_lst)==1:\n",
    "                    obs_temp.append(tag_obs_lst[0].split('\\n')[0])\n",
    "                else:\n",
    "                    # print(tag_obs_lst)\n",
    "                    tag_temp.append(tag_obs_lst[1].split('\\n')[0])\n",
    "                    obs_temp.append(tag_obs_lst[0])\n",
    "    return tags,observations\n",
    "\n",
    "\n"
   ]
  },
  {
   "cell_type": "code",
   "execution_count": 86,
   "metadata": {
    "tags": []
   },
   "outputs": [],
   "source": [
    "def tag_lib(tags):\n",
    "    alltag=[]\n",
    "    for tag in tags:\n",
    "       for t in tag:\n",
    "           alltag.append(t)\n",
    "    #print(alltag)\n",
    "    possible_tags=list(set(alltag))\n",
    "    return possible_tags\n",
    "def obs_lib(observations):\n",
    "    all_obs=[]\n",
    "    for observation in observations:\n",
    "        for obs in observation:\n",
    "            all_obs.append(obs)\n",
    "    possible_obs=list(set(all_obs))\n",
    "    return possible_obs\n",
    "\n",
    "def map(lib):\n",
    "    dictionary={}\n",
    "    for i in range(len(lib)):\n",
    "        dictionary[lib[i]]=i\n",
    "    return dictionary\n",
    "\n",
    "def label(data,dictionary):\n",
    "    label=[]\n",
    "    for d in data:\n",
    "        temp=[]\n",
    "        for ele in d:\n",
    "            temp.append(dictionary[ele])\n",
    "        label.append(temp)\n",
    "    return label\n"
   ]
  },
  {
   "cell_type": "code",
   "execution_count": 87,
   "metadata": {
    "tags": []
   },
   "outputs": [],
   "source": [
    "def get_emission_para(obslabel,taglabel,obslib,taglib):\n",
    "    emission_matrix=np.zeros(shape=(len(taglib),len(obslib)+1))\n",
    "    for tls,ols in zip(taglabel,obslabel):\n",
    "        for tl,ol in zip(tls,ols):\n",
    "            emission_matrix[tl,ol]=emission_matrix[tl,ol]+1\n",
    "    emission_matrix[:,-1]=0.5\n",
    "    # print(emission_matrix)\n",
    "    emission_matrix=emission_matrix/np.sum(emission_matrix,axis=1).reshape(emission_matrix.shape[0],1)\n",
    "    return emission_matrix\n"
   ]
  },
  {
   "cell_type": "code",
   "execution_count": 88,
   "metadata": {},
   "outputs": [],
   "source": [
    "def get_transition_para(taglabel,taglib):\n",
    "    transition_matrix=np.zeros(shape=(len(taglib)+1,len(taglib)+1)) # +1 for START, STOP\n",
    "    for tagseq in taglabel:\n",
    "        for i in range(len(tagseq)):\n",
    "            if i == 0:\n",
    "                transition_matrix[-1,tagseq[i]]=transition_matrix[-1,tagseq[i]]+1\n",
    "            elif i == len(tagseq)-1:\n",
    "                transition_matrix[tagseq[i],-1]=transition_matrix[tagseq[i],-1]+1\n",
    "            else:\n",
    "                transition_matrix[tagseq[i-1],tagseq[i]]=transition_matrix[tagseq[i-1],tagseq[i]]+1\n",
    "    transition_matrix=transition_matrix/np.sum(transition_matrix,axis=1).reshape(transition_matrix.shape[0],1)\n",
    "    return transition_matrix\n",
    "\n"
   ]
  },
  {
   "cell_type": "code",
   "execution_count": 89,
   "metadata": {},
   "outputs": [],
   "source": [
    "def log(x, inf_replace=-100):\n",
    "    out = np.log(x)\n",
    "    out[~np.isfinite(out)] = inf_replace\n",
    "    return out"
   ]
  },
  {
   "cell_type": "code",
   "execution_count": 90,
   "metadata": {
    "tags": []
   },
   "outputs": [],
   "source": [
    "def topk(observation,transition_matrix,emission_matrix,k,obs_dict):\n",
    "    obs_len=len(observation)\n",
    "    numOftags=emission_matrix.shape[0]\n",
    "    pi = np.zeros(shape=(numOftags,obs_len+1))\n",
    "\n",
    "    for i in range(obs_len+1):\n",
    "        if i == 0:\n",
    "            if observation[i] in obs_dict.keys():\n",
    "                pi[:,i]= transition_matrix[-1,:-1]+emission_matrix[:,obs_dict[observation[i]]]\n",
    "                # print(i,pi[:,i])\n",
    "            else:\n",
    "                pi[:,i]= transition_matrix[-1,:-1]+emission_matrix[:,-1]\n",
    "        elif i == obs_len:\n",
    "            pi[:,i]=pi[:,i-1]+transition_matrix[:-1,-1]\n",
    "\n",
    "        else:\n",
    "            for j in range(numOftags):\n",
    "                if observation[i] in obs_dict.keys():\n",
    "                    # print(emission_matrix[:,obs_dict[observation[i]]])\n",
    "                    node_pi=pi[:,i-1]+transition_matrix[:-1,j]+emission_matrix[j,obs_dict[observation[i]]]\n",
    "                    # print(i,node_pi)\n",
    "                else:\n",
    "                    node_pi=pi[:,i-1]+transition_matrix[:-1,j]+emission_matrix[j,-1]\n",
    "                # print(node_pi)\n",
    "                node_pi.sort()\n",
    "                # print(i,j,node_pi)\n",
    "                pi[j,i]=node_pi[-k]\n",
    "\n",
    "    return pi\n"
   ]
  },
  {
   "cell_type": "code",
   "execution_count": 91,
   "metadata": {},
   "outputs": [],
   "source": [
    "import copy\n",
    "def find_path(observation,pi,emission_matrix,transition_matrix,k,tag_lib,tag_dict):\n",
    "    obs_len=len(observation)\n",
    "    path=[]\n",
    "\n",
    "    for i in range(obs_len-1,-1,-1):\n",
    "        if i == obs_len-1:\n",
    "            layer=pi[:,i]*transition_matrix[:-1,-1]\n",
    "            layercopy=copy.deepcopy(layer)\n",
    "            layer.sort()\n",
    "            ele=layer[-k]\n",
    "            idx=np.where(layercopy==ele)\n",
    "            path.append(taglib[idx[0][0]])\n",
    "            \n",
    "        else:\n",
    "            layer=pi[:,i]*transition_matrix[:-1,tag_dict[path[-1]]]\n",
    "            layercopy=copy.deepcopy(layer)\n",
    "            layer.sort()\n",
    "            ele=layer[-k]\n",
    "            idx=np.where(layercopy==ele)\n",
    "            path.append(taglib[idx[0][0]])\n",
    "    return path"
   ]
  },
  {
   "source": [
    "## Get Parameters"
   ],
   "cell_type": "markdown",
   "metadata": {}
  },
  {
   "cell_type": "code",
   "execution_count": 92,
   "metadata": {
    "tags": []
   },
   "outputs": [],
   "source": [
    "tags,observations=load_data('./EN/train')\n",
    "\n",
    "obslib=obs_lib(observations)\n",
    "# print(obslib)\n",
    "taglib=tag_lib(tags)\n",
    "# print(taglib)\n",
    "\n",
    "tag_dict=map(taglib)\n",
    "obs_dict=map(obslib)\n",
    "# print(obs_dict)\n",
    "\n",
    "obs_label=label(observations,obs_dict)\n",
    "tag_label=label(tags,tag_dict)\n",
    "# print(obs_label)\n",
    "\n",
    "emission_matrix=get_emission_para(obs_label,tag_label,obslib,taglib)\n",
    "transition_matrix=get_transition_para(tag_label,taglib)\n",
    "\n",
    "transition_transform=log(transition_matrix)\n",
    "emission_transform=log(emission_matrix)"
   ]
  },
  {
   "source": [
    "## Generate tag sequence"
   ],
   "cell_type": "markdown",
   "metadata": {}
  },
  {
   "cell_type": "code",
   "execution_count": 93,
   "metadata": {
    "tags": []
   },
   "outputs": [],
   "source": [
    "test_tags,test_observations=load_data('./EN/dev.in')\n",
    "k=3\n",
    "value=[]\n",
    "pilst=[]\n",
    "for obs in test_observations:\n",
    "    pi=topk(obs,transition_transform,emission_transform,k,obs_dict)\n",
    "    pilst.append(pi)\n",
    "    last=pi[:,-1]\n",
    "    last.sort()\n",
    "    value.append(last[-k])\n",
    "\n"
   ]
  },
  {
   "cell_type": "code",
   "execution_count": 94,
   "metadata": {
    "tags": []
   },
   "outputs": [],
   "source": [
    "k=3\n",
    "pathlst=[]\n",
    "for obs,pi in zip(test_observations,pilst):\n",
    "    # print(obs)\n",
    "    path = find_path(obs,pi,emission_transform,transition_transform,k,tag_lib,tag_dict)\n",
    "    # print(path)\n",
    "    path.reverse()\n",
    "    # print(path)\n",
    "    pathlst.append(path)\n",
    "\n",
    "with open('./EN/dev.p4.out','w') as f:\n",
    "    for os,ps in zip(test_observations,pathlst):\n",
    "        for o, p in zip(os,ps):\n",
    "            f.write(o+' '+p+'\\n')\n",
    "        f.write('\\n')\n",
    "    f.close()"
   ]
  }
 ]
}